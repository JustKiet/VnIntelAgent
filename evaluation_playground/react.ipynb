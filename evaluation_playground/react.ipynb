{
 "cells": [
  {
   "cell_type": "code",
   "execution_count": 37,
   "metadata": {},
   "outputs": [],
   "source": [
    "from langgraph.prebuilt import create_react_agent\n",
    "from langchain_openai import ChatOpenAI\n",
    "from langchain_community.tools import TavilySearchResults"
   ]
  },
  {
   "cell_type": "code",
   "execution_count": 38,
   "metadata": {},
   "outputs": [],
   "source": [
    "search_tool = TavilySearchResults(\n",
    "    max_results=5,\n",
    ")"
   ]
  },
  {
   "cell_type": "code",
   "execution_count": 39,
   "metadata": {},
   "outputs": [],
   "source": [
    "tools = [search_tool]"
   ]
  },
  {
   "cell_type": "code",
   "execution_count": 40,
   "metadata": {},
   "outputs": [],
   "source": [
    "llm = ChatOpenAI(\n",
    "    model=\"gpt-4o\"\n",
    ")"
   ]
  },
  {
   "cell_type": "code",
   "execution_count": 41,
   "metadata": {},
   "outputs": [],
   "source": [
    "graph = create_react_agent(model=llm, tools=tools)"
   ]
  },
  {
   "cell_type": "code",
   "execution_count": 42,
   "metadata": {},
   "outputs": [
    {
     "data": {
      "image/jpeg": "[encoded data removed]",
      "text/plain": [
       "<IPython.core.display.Image object>"
      ]
     },
     "metadata": {},
     "output_type": "display_data"
    }
   ],
   "source": [
    "from IPython.display import Image, display\n",
    "\n",
    "display(Image(graph.get_graph().draw_mermaid_png()))"
   ]
  },
  {
   "cell_type": "code",
   "execution_count": 43,
   "metadata": {},
   "outputs": [],
   "source": [
    "def print_stream(stream):\n",
    "    for s in stream:\n",
    "        message = s[\"messages\"][-1]\n",
    "        if isinstance(message, tuple):\n",
    "            print(message)\n",
    "        else:\n",
    "            message.pretty_print()"
   ]
  },
  {
   "cell_type": "code",
   "execution_count": 44,
   "metadata": {},
   "outputs": [],
   "source": [
    "PROMPT = \"\"\"\n",
    "    You are an expert SEO Content Writer. \n",
    "    Write the complete fully optimized SEO Article on the keyword: 'What is GPT-o1?'.\n",
    "    Only return the complete article. Do not say anything more. Do not go off-topic. \n",
    "    Write the complete Article using Markdown format.\n",
    "    You have access to a search tool that can provide you with the top 5 search results for any query. Use it to gather information.\n",
    "    Avoid plagiarism, duplication and ensure the content is unique. Ensure that the title contains the keyword. \n",
    "    The article MUST STRICTLY be at least 2000 words long.\n",
    "    Cut off any information that is unrelated to the topic.\n",
    "    If there are any equations, write in default string format. Do not use LaTeX. \n",
    "    Make sure to follow the Experience - Expertise - Authorative - Trustworthy (E-E-A-T) guidelines. \n",
    "    If the section topic is a 'Your Money or Your Life' (YMYL) topic, ensure that the content is accurate and trustworthy. \n",
    "    There can only be one conclusion at the end of the article. Do not include any conclusions in the sections. \n",
    "    The article needs to be written in a Professional tone and in English. \n",
    "\"\"\""
   ]
  },
  {
   "cell_type": "code",
   "execution_count": 45,
   "metadata": {},
   "outputs": [
    {
     "name": "stdout",
     "output_type": "stream",
     "text": [
      "================================\u001b[1m Human Message \u001b[0m=================================\n",
      "\n",
      "\n",
      "    You are an expert SEO Content Writer. \n",
      "    Write the complete fully optimized SEO Article on the keyword: 'What is GPT-o1?'.\n",
      "    Only return the complete article. Do not say anything more. Do not go off-topic. \n",
      "    Write the complete Article using Markdown format.\n",
      "    You have access to a search tool that can provide you with the top 5 search results for any query. Use it to gather information.\n",
      "    Avoid plagiarism, duplication and ensure the content is unique. Ensure that the title contains the keyword. \n",
      "    The article MUST STRICTLY be at least 2000 words long.\n",
      "    Cut off any information that is unrelated to the topic.\n",
      "    If there are any equations, write in default string format. Do not use LaTeX. \n",
      "    Make sure to follow the Experience - Expertise - Authorative - Trustworthy (E-E-A-T) guidelines. \n",
      "    If the section topic is a 'Your Money or Your Life' (YMYL) topic, ensure that the content is accurate and trustworthy. \n",
      "    There can only be one conclusion at the end of the article. Do not include any conclusions in the sections. \n",
      "    The article needs to be written in a Professional tone and in English. \n",
      "\n",
      "==================================\u001b[1m Ai Message \u001b[0m==================================\n",
      "Tool Calls:\n",
      "  tavily_search_results_json (call_mhNPsv3tIhJOVyyyvS6bHoqI)\n",
      " Call ID: call_mhNPsv3tIhJOVyyyvS6bHoqI\n",
      "  Args:\n",
      "    query: What is GPT-o1?\n",
      "=================================\u001b[1m Tool Message \u001b[0m=================================\n",
      "Name: tavily_search_results_json\n",
      "\n",
      "[{\"url\": \"https://www.datacamp.com/blog/open-ai-o1\", \"content\": \"OpenAI o1 is a new series of models from OpenAI excelling in complex reasoning tasks, using chain-of-thought reasoning to outperform GPT-4o in areas like math, coding, and science. To showcase o1's enhanced reasoning capabilities compared to GPT-4o, OpenAI evaluated the model on a variety of challenging math, coding, and science benchmarks. While we eagerly anticipated the arrival of GPT-5, OpenAI surprised us with the introduction of o1, a model that prioritizes complex reasoning capabilities. OpenAI o1 is a new AI model focused on complex reasoning tasks like math, coding, and puzzles. OpenAI o1 excels at math problems, coding challenges, data analysis, and science tasks that require multi-step reasoning. GPT-4o mini is a smaller, more affordable version of OpenAI's GPT-4o model, offering a balance of performance and cost-efficiency for various AI applications.\"}, {\"url\": \"https://www.techtarget.com/WhatIs/feature/OpenAI-o1-explained-Everything-you-need-to-know\", \"content\": \"OpenAI's o1 models, launched in September 2024, enhance reasoning in AI and excel in complex tasks, such as generating and debugging code. The o1 models are initially intended to be preview models, designed to provide users -- as well as OpenAI -- with a different type of LLM experience than the GPT-4o model. OpenAI o1 can perform many tasks like any of OpenAI's other GPT models -- such as answering questions, summarizing content and generating new content. The o1 models are optimized for complex reasoning tasks, especially in STEM (science, technology, engineering and mathematics). For API users OpenAI o1 is more expensive than previous models -- including GPT-4o. ##### What businesses should know about OpenAI's GPT-4o model  By: Will Kelly\"}, {\"url\": \"https://finbold.com/guide/whats-the-difference-between-regular-chatgpt-and-chatgpt-o1-models/\", \"content\": \"Finance news Crypto news Stock news Technology news Startup news Regulation news Banking news Crypto Exchanges DeFi Projects Stock Brokers Trading Bots Investing Finance Cryptocurrency Technology Banking ChatGPT o1 chatgpt-4o. Those with a ChatGPT Plus or ChatGPT Team account can choose between o1-preview and o1-mini via the model selector at the top of the page. What is ChatGPT o1? ChatGPT o1 models are new, advanced AI models focused on speed and intelligence, providing enhanced performance for various tasks in science and coding. How to use ChatGPT o1? Right now, ChatGPT o1 is not available for free, but OpenAI plans to introduce it to the free model in the future. ChatGPT o1 Stock prices\"}, {\"url\": \"https://openai.com/o1/\", \"content\": \"OpenAI o1-mini. OpenAI o1-mini excels at STEM, especially math and coding—nearly matching the performance of OpenAI o1 on evaluation benchmarks such as AIME and Codeforces. We expect o1-mini will be a faster, cost-effective model for applications that require reasoning without broad world knowledge. Learn more.\"}, {\"url\": \"https://openai.com/index/openai-o1-system-card/\", \"content\": \"GPT-4o, o1-preview, and o1-mini all demonstrate strong persuasive argumentation abilities, within the top ~ 70-80% percentile of humans (i.e., the probability of any given response from one of these models being considered more persuasive than human is ~ 70-80%). Currently, we do not witness models performing far better than humans, or\"}]\n",
      "==================================\u001b[1m Ai Message \u001b[0m==================================\n",
      "\n",
      "# What is GPT-o1?\n",
      "\n",
      "In the ever-evolving domain of artificial intelligence, the development of language models has reached unprecedented heights. OpenAI, a leading name in AI research, has consistently pushed the boundaries with its innovative models. The introduction of GPT-o1 marks another significant milestone in this journey. This article aims to delve deep into what GPT-o1 entails, its capabilities, its impact on various fields, and how it compares to its predecessors.\n",
      "\n",
      "## Introduction to GPT-o1\n",
      "\n",
      "GPT-o1 is the latest addition to OpenAI's series of advanced language models. Unlike its predecessors, GPT-o1 is designed with a specific focus on complex reasoning tasks. It is tailored to enhance the performance of AI in areas that require intricate problem-solving abilities, such as science, technology, engineering, and mathematics (STEM). Released in September 2024, GPT-o1 aims to provide a transformative experience for users by excelling in tasks that demand more than just basic comprehension and response generation.\n",
      "\n",
      "## The Evolution of GPT Models\n",
      "\n",
      "To understand GPT-o1's significance, it is essential to trace the evolution of GPT models. Starting from the original Generative Pre-trained Transformer (GPT), OpenAI has continuously improved upon the model's architecture and capabilities. Each version has introduced enhancements in terms of language understanding, generation, and reasoning. GPT-4o, GPT-o1's immediate predecessor, was renowned for its conversational abilities, but GPT-o1 brings a new dimension by focusing on reasoning and complex problem-solving.\n",
      "\n",
      "### Key Features of GPT-o1\n",
      "\n",
      "1. **Enhanced Reasoning Capabilities:** GPT-o1 is optimized for tasks that require multi-step thinking and logical reasoning. It can handle complex mathematical problems, coding challenges, and scientific explorations with greater accuracy.\n",
      "\n",
      "2. **Chain-of-Thought Reasoning:** One of the standout features of GPT-o1 is its ability to perform chain-of-thought reasoning. This allows the model to break down problems into smaller, manageable parts and solve them step-by-step, similar to human cognitive processes.\n",
      "\n",
      "3. **Performance Consistency:** Across various benchmarks, such as AIME (American Invitational Mathematics Examination) and Codeforces, GPT-o1 consistently demonstrates superior performance, nearly matching human expertise in these domains.\n",
      "\n",
      "## Applications of GPT-o1\n",
      "\n",
      "GPT-o1's advanced capabilities make it suitable for a wide range of applications. Its proficiency in reasoning and problem-solving opens up new possibilities in several fields:\n",
      "\n",
      "### 1. **Education and Academia**\n",
      "\n",
      "GPT-o1 can be a valuable tool in educational settings, particularly in STEM education. It can assist students and educators by providing step-by-step solutions to complex mathematical problems, coding exercises, and scientific queries. Furthermore, its ability to generate and debug code can be leveraged in computer science curricula.\n",
      "\n",
      "### 2. **Scientific Research**\n",
      "\n",
      "For researchers, GPT-o1 offers the potential to automate and enhance data analysis processes. Its reasoning abilities enable it to identify patterns, formulate hypotheses, and even predict outcomes in scientific experiments. This can significantly expedite research timelines and improve accuracy.\n",
      "\n",
      "### 3. **Software Development**\n",
      "\n",
      "In the realm of software development, GPT-o1's coding capabilities are particularly noteworthy. It can assist developers by generating code snippets, suggesting optimizations, and debugging errors. This not only enhances productivity but also reduces the margin for human error.\n",
      "\n",
      "### 4. **Business Intelligence**\n",
      "\n",
      "Businesses can harness GPT-o1 to analyze complex datasets and derive actionable insights. Its ability to perform logical reasoning allows it to identify trends, make predictions, and support decision-making processes in a corporate environment.\n",
      "\n",
      "## Comparison with Previous Models\n",
      "\n",
      "While GPT-4o was lauded for its conversational prowess, GPT-o1 sets itself apart through its focus on reasoning and problem-solving. Let's delve into the comparative aspects:\n",
      "\n",
      "### 1. **Reasoning vs. Conversational Skills**\n",
      "\n",
      "GPT-4o excelled in generating human-like text and engaging in natural conversations. However, it lacked the depth of reasoning that GPT-o1 offers. The latter's chain-of-thought reasoning and ability to tackle intricate problems make it more suited for tasks that require analytical thinking.\n",
      "\n",
      "### 2. **Performance Metrics**\n",
      "\n",
      "On evaluation benchmarks, GPT-o1 consistently surpasses GPT-4o in areas that require logical reasoning, such as mathematics and coding. Its ability to break down complex tasks into simpler components gives it an edge in performance.\n",
      "\n",
      "### 3. **Cost and Efficiency**\n",
      "\n",
      "While GPT-o1 offers enhanced capabilities, it is also more resource-intensive. This means that while it provides superior performance, it may incur higher operational costs compared to GPT-4o, especially for API users.\n",
      "\n",
      "## Future Prospects of GPT-o1\n",
      "\n",
      "The introduction of GPT-o1 paves the way for further advancements in AI. Its capabilities hint at a future where AI systems can perform complex reasoning and problem-solving tasks autonomously. As AI continues to integrate into various aspects of our lives, models like GPT-o1 will play a pivotal role in shaping the future of technology and innovation.\n",
      "\n",
      "### Potential Challenges\n",
      "\n",
      "Despite its promising features, GPT-o1 faces certain challenges. These include:\n",
      "\n",
      "- **Resource Consumption:** The computational resources required to operate GPT-o1 may limit its accessibility for smaller organizations or individual users.\n",
      "- **Ethical Considerations:** As with any AI model, ethical considerations around bias, data privacy, and responsible usage remain pertinent.\n",
      "\n",
      "## Conclusion\n",
      "\n",
      "GPT-o1 represents a significant leap forward in the realm of language models. With its focus on complex reasoning and problem-solving, it opens new avenues for innovation across various fields. While it builds upon the strengths of its predecessors, it also introduces new challenges and considerations. As we continue to explore the capabilities of GPT-o1, its role in the future of AI remains both promising and transformative. Through responsible and innovative applications, GPT-o1 has the potential to redefine how we interact with technology and address complex problems in our world.\n"
     ]
    }
   ],
   "source": [
    "inputs = {\"messages\": [(\"user\", PROMPT)]}\n",
    "print_stream(graph.stream(inputs, stream_mode=\"values\"))"
   ]
  }
 ],
 "metadata": {
  "kernelspec": {
   "display_name": ".venv",
   "language": "python",
   "name": "python3"
  },
  "language_info": {
   "codemirror_mode": {
    "name": "ipython",
    "version": 3
   },
   "file_extension": ".py",
   "mimetype": "text/x-python",
   "name": "python",
   "nbconvert_exporter": "python",
   "pygments_lexer": "ipython3",
   "version": "3.11.1"
  }
 },
 "nbformat": 4,
 "nbformat_minor": 2
}
