{
 "cells": [
  {
   "cell_type": "code",
   "execution_count": 33,
   "metadata": {},
   "outputs": [],
   "source": [
    "from typing import Annotated\n",
    "\n",
    "from typing_extensions import TypedDict\n",
    "\n",
    "from langgraph.graph import StateGraph, START, END\n",
    "from langgraph.graph.message import add_messages\n",
    "\n",
    "\n",
    "class State(TypedDict):\n",
    "    # Messages have the type \"list\". The `add_messages` function\n",
    "    # in the annotation defines how this state key should be updated\n",
    "    # (in this case, it appends messages to the list, rather than overwriting them)\n",
    "    messages: Annotated[list, add_messages]\n",
    "\n",
    "\n",
    "graph_builder = StateGraph(State)"
   ]
  },
  {
   "cell_type": "code",
   "execution_count": 34,
   "metadata": {},
   "outputs": [],
   "source": [
    "from langchain_community.tools.tavily_search import TavilySearchResults\n",
    "\n",
    "tool = TavilySearchResults(max_results=5)\n",
    "tools = [tool]"
   ]
  },
  {
   "cell_type": "code",
   "execution_count": 35,
   "metadata": {},
   "outputs": [
    {
     "data": {
      "text/plain": [
       "<langgraph.graph.state.StateGraph at 0x1fdd90f5110>"
      ]
     },
     "execution_count": 35,
     "metadata": {},
     "output_type": "execute_result"
    }
   ],
   "source": [
    "from langchain_openai import ChatOpenAI\n",
    "\n",
    "llm = ChatOpenAI(model=\"gpt-4o\")\n",
    "llm_with_tools = llm.bind_tools(tools)\n",
    "\n",
    "def agent(state: State):\n",
    "    return {\"messages\": [llm_with_tools.invoke(state[\"messages\"])]}\n",
    "\n",
    "\n",
    "# The first argument is the unique node name\n",
    "# The second argument is the function or object that will be called whenever\n",
    "# the node is used.\n",
    "graph_builder.add_node(\"agent\", agent)"
   ]
  },
  {
   "cell_type": "code",
   "execution_count": 36,
   "metadata": {},
   "outputs": [
    {
     "data": {
      "text/plain": [
       "<langgraph.graph.state.StateGraph at 0x1fdd90f5110>"
      ]
     },
     "execution_count": 36,
     "metadata": {},
     "output_type": "execute_result"
    }
   ],
   "source": [
    "import json\n",
    "\n",
    "from langchain_core.messages import ToolMessage\n",
    "\n",
    "\n",
    "class BasicToolNode:\n",
    "    \"\"\"A node that runs the tools requested in the last AIMessage.\"\"\"\n",
    "\n",
    "    def __init__(self, tools: list) -> None:\n",
    "        self.tools_by_name = {tool.name: tool for tool in tools}\n",
    "\n",
    "    def __call__(self, inputs: dict):\n",
    "        if messages := inputs.get(\"messages\", []):\n",
    "            message = messages[-1]\n",
    "        else:\n",
    "            raise ValueError(\"No message found in input\")\n",
    "        outputs = []\n",
    "        for tool_call in message.tool_calls:\n",
    "            tool_result = self.tools_by_name[tool_call[\"name\"]].invoke(\n",
    "                tool_call[\"args\"]\n",
    "            )\n",
    "            outputs.append(\n",
    "                ToolMessage(\n",
    "                    content=json.dumps(tool_result),\n",
    "                    name=tool_call[\"name\"],\n",
    "                    tool_call_id=tool_call[\"id\"],\n",
    "                )\n",
    "            )\n",
    "        return {\"messages\": outputs}\n",
    "\n",
    "\n",
    "tool_node = BasicToolNode(tools=[tool])\n",
    "graph_builder.add_node(\"tools\", tool_node)"
   ]
  },
  {
   "cell_type": "code",
   "execution_count": 37,
   "metadata": {},
   "outputs": [],
   "source": [
    "from typing import Literal\n",
    "\n",
    "\n",
    "def route_tools(\n",
    "    state: State,\n",
    "):\n",
    "    \"\"\"\n",
    "    Use in the conditional_edge to route to the ToolNode if the last message\n",
    "    has tool calls. Otherwise, route to the end.\n",
    "    \"\"\"\n",
    "    if isinstance(state, list):\n",
    "        ai_message = state[-1]\n",
    "    elif messages := state.get(\"messages\", []):\n",
    "        ai_message = messages[-1]\n",
    "    else:\n",
    "        raise ValueError(f\"No messages found in input state to tool_edge: {state}\")\n",
    "    if hasattr(ai_message, \"tool_calls\") and len(ai_message.tool_calls) > 0:\n",
    "        return \"tools\"\n",
    "    return END\n",
    "\n",
    "\n",
    "# The `tools_condition` function returns \"tools\" if the chatbot asks to use a tool, and \"END\" if\n",
    "# it is fine directly responding. This conditional routing defines the main agent loop.\n",
    "graph_builder.add_conditional_edges(\n",
    "    \"agent\",\n",
    "    route_tools,\n",
    "    # The following dictionary lets you tell the graph to interpret the condition's outputs as a specific node\n",
    "    # It defaults to the identity function, but if you\n",
    "    # want to use a node named something else apart from \"tools\",\n",
    "    # You can update the value of the dictionary to something else\n",
    "    # e.g., \"tools\": \"my_tools\"\n",
    "    {\"tools\": \"tools\", END: END},\n",
    ")\n",
    "# Any time a tool is called, we return to the agent to decide the next step\n",
    "graph_builder.add_edge(\"tools\", \"agent\")\n",
    "graph_builder.add_edge(START, \"agent\")\n",
    "graph = graph_builder.compile()"
   ]
  },
  {
   "cell_type": "code",
   "execution_count": 38,
   "metadata": {},
   "outputs": [
    {
     "data": {
      "image/jpeg": "[encoded data removed]",
      "text/plain": [
       "<IPython.core.display.Image object>"
      ]
     },
     "metadata": {},
     "output_type": "display_data"
    }
   ],
   "source": [
    "from IPython.display import Image, display\n",
    "\n",
    "try:\n",
    "    display(Image(graph.get_graph().draw_mermaid_png()))\n",
    "except Exception:\n",
    "    # This requires some extra dependencies and is optional\n",
    "    pass"
   ]
  },
  {
   "cell_type": "code",
   "execution_count": 39,
   "metadata": {},
   "outputs": [],
   "source": [
    "def stream_graph_updates(user_input: str):\n",
    "    for event in graph.stream({\"messages\": [(\"user\", user_input)]}):\n",
    "        for value in event.values():\n",
    "            print(\"Assistant:\", value[\"messages\"][-1].content)"
   ]
  },
  {
   "cell_type": "code",
   "execution_count": 40,
   "metadata": {},
   "outputs": [
    {
     "name": "stdout",
     "output_type": "stream",
     "text": [
      "User: \n",
      "    You are an expert SEO Content Writer. \n",
      "    Write the complete fully optimized SEO Article on the keyword: 'What is GPT-o1?'.\n",
      "    Only return the complete article. Do not say anything more. Do not go off-topic.\n",
      "    You have access to the search engine, use it to research the topic. \n",
      "    Write the complete Article using Markdown format.\n",
      "    Avoid plagiarism, duplication and ensure the content is unique. Ensure that the title contains the keyword. \n",
      "    The article MUST STRICTLY be at least 2000 words long.\n",
      "    Cut off any information that is unrelated to the topic.\n",
      "    If there are any equations, write in default string format. Do not use LaTeX. \n",
      "    Make sure to follow the Experience - Expertise - Authorative - Trustworthy (E-E-A-T) guidelines. \n",
      "    If the section topic is a 'Your Money or Your Life' (YMYL) topic, ensure that the content is accurate and trustworthy. \n",
      "    There can only be one conclusion at the end of the article. Do not include any conclusions in the sections. \n",
      "    The article needs to be written in a Professional tone and in English. \n",
      "    If your article exceeds my expectations, I will give you a 200$ bonus!\n",
      "\n",
      "Assistant: \n",
      "Assistant: [{\"url\": \"https://openai.com/index/introducing-openai-o1-preview/\", \"content\": \"As part of developing these new models, we have come up with a new safety training approach that harnesses their reasoning capabilities to make them adhere to safety and alignment guidelines. To offer a more efficient solution for developers, we\\u2019re also releasing OpenAI o1-mini, a faster, cheaper reasoning model that is particularly effective at coding. ChatGPT Plus and Team users will be able to access o1 models in ChatGPT starting today. Developers who qualify for API usage tier 5(opens in a new window) can start prototyping with both models in the API today with a rate limit of 20 RPM. We also plan to continue developing and releasing models in our GPT series, in addition to the new OpenAI o1 series.\"}, {\"url\": \"https://www.techtarget.com/WhatIs/feature/OpenAI-o1-explained-Everything-you-need-to-know\", \"content\": \"OpenAI's o1 models, launched in September 2024, enhance reasoning in AI and excel in complex tasks, such as generating and debugging code. The o1 models are initially intended to be preview models, designed to provide users -- as well as OpenAI -- with a different type of LLM experience than the GPT-4o model. OpenAI o1 can perform many tasks like any of OpenAI's other GPT models -- such as answering questions, summarizing content and generating new content. The o1 models are optimized for complex reasoning tasks, especially in STEM (science, technology, engineering and mathematics). For API users OpenAI o1 is more expensive than previous models -- including GPT-4o. ##### What businesses should know about OpenAI's GPT-4o model  By: Will Kelly\"}, {\"url\": \"https://www.tomsguide.com/ai/chatgpt/openais-o1-model-leaked-on-friday-and-it-is-wild-heres-what-happened\", \"content\": \"OpenAI\\u2019s o1 model leaked on Friday and it is wild \\u2014 here\\u2019s what happened | Tom's Guide OpenAI\\u2019s o1 model leaked on Friday and it is wild \\u2014 here\\u2019s what happened OpenAI is set to release the full version of its powerful o1 reasoning model sometime this year, but an unexpected leak last week means we may have already seen it in action \\u2014 and it is even better than we expected. In September OpenAI unveiled a new type of AI model that takes time to reason through a problem before responding. HUGE LEAK \\ud83d\\udd25 OpenAI full o1 Chain of Thought has native image capabilities See the response for recent SpaceX launch image. Midjourney is building the Holodeck \\u2014 new AI model lets you \\u2018enter\\u2019 3D images\"}, {\"url\": \"https://openai.com/o1/\", \"content\": \"OpenAI o1-mini. OpenAI o1-mini excels at STEM, especially math and coding\\u2014nearly matching the performance of OpenAI o1 on evaluation benchmarks such as AIME and Codeforces. We expect o1-mini will be a faster, cost-effective model for applications that require reasoning without broad world knowledge. Learn more.\"}, {\"url\": \"https://www.datacamp.com/blog/open-ai-o1\", \"content\": \"OpenAI o1 is a new series of models from OpenAI excelling in complex reasoning tasks, using chain-of-thought reasoning to outperform GPT-4o in areas like math, coding, and science. To showcase o1's enhanced reasoning capabilities compared to GPT-4o, OpenAI evaluated the model on a variety of challenging math, coding, and science benchmarks. While we eagerly anticipated the arrival of GPT-5, OpenAI surprised us with the introduction of o1, a model that prioritizes complex reasoning capabilities. OpenAI o1 is a new AI model focused on complex reasoning tasks like math, coding, and puzzles. OpenAI o1 excels at math problems, coding challenges, data analysis, and science tasks that require multi-step reasoning. GPT-4o mini is a smaller, more affordable version of OpenAI's GPT-4o model, offering a balance of performance and cost-efficiency for various AI applications.\"}]\n",
      "Assistant: # What is GPT-o1? A Comprehensive Guide\n",
      "\n",
      "In an era where artificial intelligence (AI) is revolutionizing industries, OpenAI has consistently been at the forefront of this transformation. One of its latest innovations is the GPT-o1 model, which is poised to redefine how we perceive AI's capabilities in complex reasoning tasks. This article delves deep into what GPT-o1 is, its features, applications, and the implications it holds for the future of AI.\n",
      "\n",
      "## Introduction to GPT-o1\n",
      "\n",
      "GPT-o1 is part of a new series of models introduced by OpenAI, designed to enhance reasoning in artificial intelligence. Officially launched in September 2024, GPT-o1 represents a significant leap in AI technology, particularly in handling complex tasks that require advanced reasoning capabilities. Unlike its predecessors, GPT-o1 is optimized to excel in areas that demand a higher level of cognitive processing, such as generating and debugging code, solving complex mathematical problems, and performing intricate scientific analyses.\n",
      "\n",
      "### The Evolution of GPT Models\n",
      "\n",
      "Before diving into the specifics of GPT-o1, it's essential to understand its lineage. OpenAI's Generative Pre-trained Transformer (GPT) models have evolved significantly over the years. Starting from the initial versions, which focused on natural language processing and generation, the models have progressively incorporated more sophisticated reasoning capabilities. GPT-4o, the predecessor of GPT-o1, was renowned for its language generation prowess but had limitations in complex reasoning tasks. GPT-o1 addresses these limitations, marking a new chapter in AI development.\n",
      "\n",
      "### Key Features of GPT-o1\n",
      "\n",
      "- **Enhanced Reasoning Capabilities**: GPT-o1 stands out for its ability to perform complex reasoning tasks effectively. This includes solving advanced mathematical equations, coding challenges, and scientific problems that require multi-step logical processing.\n",
      "  \n",
      "- **Chain-of-Thought Reasoning**: One of the standout features of GPT-o1 is its ability to employ chain-of-thought reasoning. This allows the model to systematically approach problems, breaking them down into manageable components before arriving at a solution.\n",
      "\n",
      "- **Efficiency and Speed**: Despite its advanced capabilities, GPT-o1 is designed to be faster and more efficient than previous models. This makes it an attractive option for developers who require quick and reliable performance.\n",
      "\n",
      "- **Cost-Effectiveness**: While more expensive than some of its predecessors, GPT-o1 offers significant value for its enhanced reasoning capabilities. OpenAI has also introduced a mini version, known as GPT-o1-mini, which provides a balance of performance and cost-efficiency.\n",
      "\n",
      "## Applications of GPT-o1\n",
      "\n",
      "The introduction of GPT-o1 opens up a myriad of possibilities across various sectors. Here, we explore some of the most promising applications of this cutting-edge AI model.\n",
      "\n",
      "### STEM Education and Research\n",
      "\n",
      "GPT-o1 is particularly well-suited for STEM (Science, Technology, Engineering, and Mathematics) applications. Its ability to handle complex mathematical and scientific problems makes it an invaluable tool for educators and researchers. For instance, it can assist in solving intricate equations, analyzing data sets, and even simulating scientific experiments.\n",
      "\n",
      "### Software Development and Debugging\n",
      "\n",
      "In the realm of software development, GPT-o1 excels in generating and debugging code. Developers can leverage its capabilities to automate routine coding tasks, identify errors in complex codebases, and even suggest optimized solutions. This not only enhances productivity but also reduces the likelihood of human error.\n",
      "\n",
      "### Data Analysis and Business Intelligence\n",
      "\n",
      "For businesses, GPT-o1 offers powerful data analysis capabilities. It can process large volumes of data, identify patterns, and generate insights that inform strategic decision-making. Whether it's forecasting market trends or optimizing supply chain operations, GPT-o1 provides businesses with a competitive edge.\n",
      "\n",
      "### Creative Industries\n",
      "\n",
      "Beyond technical applications, GPT-o1 also finds relevance in creative industries. Its advanced language generation capabilities enable it to assist in content creation, whether it's writing articles, generating marketing copy, or even composing poetry. The model's ability to understand context and nuance ensures that the content it produces is both coherent and engaging.\n",
      "\n",
      "## The Technical Backbone of GPT-o1\n",
      "\n",
      "Understanding the underlying technology of GPT-o1 is crucial to appreciating its capabilities. Here, we delve into the technical aspects that power this advanced AI model.\n",
      "\n",
      "### Transformer Architecture\n",
      "\n",
      "At the heart of GPT-o1 lies the transformer architecture, which has been the foundation of many successful AI models. This architecture allows for efficient processing of sequential data, making it ideal for tasks involving natural language and complex reasoning.\n",
      "\n",
      "### Training and Data Sets\n",
      "\n",
      "GPT-o1's formidable reasoning capabilities are a result of extensive training on diverse data sets. OpenAI has employed a rigorous training process that involves vast amounts of data from various domains, ensuring that the model is well-equipped to handle a wide range of tasks.\n",
      "\n",
      "### Safety and Alignment\n",
      "\n",
      "As AI models become more powerful, ensuring their alignment with human values and safety guidelines becomes paramount. OpenAI has implemented a new safety training approach for GPT-o1, harnessing its reasoning capabilities to adhere to ethical and operational guidelines. This ensures that the model's outputs are not only accurate but also responsible.\n",
      "\n",
      "## Challenges and Considerations\n",
      "\n",
      "While GPT-o1 represents a significant advancement in AI technology, it is not without its challenges. Here, we address some of the considerations that come with deploying such a powerful model.\n",
      "\n",
      "### Ethical Implications\n",
      "\n",
      "The enhanced capabilities of GPT-o1 raise important ethical questions. As the model becomes more adept at performing tasks traditionally handled by humans, there is a need to consider the implications on employment and societal roles. Additionally, ensuring that the model's outputs are unbiased and do not perpetuate harmful stereotypes is a critical consideration.\n",
      "\n",
      "### Accessibility and Cost\n",
      "\n",
      "While OpenAI has made efforts to offer cost-effective versions of GPT-o1, accessibility remains a concern. Ensuring that organizations of all sizes can leverage its capabilities without prohibitive costs is essential for widespread adoption.\n",
      "\n",
      "### Continuous Improvement\n",
      "\n",
      "The field of AI is ever-evolving, and continuous improvement is necessary to maintain relevance. OpenAI is committed to ongoing development and refinement of the GPT-o1 model, ensuring that it remains at the cutting edge of AI technology.\n",
      "\n",
      "## Conclusion\n",
      "\n",
      "In conclusion, GPT-o1 signifies a remarkable leap in artificial intelligence, offering unprecedented reasoning capabilities that are transforming a wide array of industries. From enhancing STEM education and software development to providing insights in business intelligence and fostering creativity, GPT-o1 is redefining the boundaries of what AI can achieve. As we embrace this new era of AI, it is crucial to navigate the accompanying challenges responsibly, ensuring that the technology serves to benefit all of humanity. OpenAI's commitment to safety, alignment, and continuous innovation positions GPT-o1 as a pivotal tool in the future of artificial intelligence.\n"
     ]
    }
   ],
   "source": [
    "user_input = \"\"\"\n",
    "    You are an expert SEO Content Writer. \n",
    "    Write the complete fully optimized SEO Article on the keyword: 'What is GPT-o1?'.\n",
    "    Only return the complete article. Do not say anything more. Do not go off-topic.\n",
    "    You have access to the search engine, use it to research the topic. \n",
    "    Write the complete Article using Markdown format.\n",
    "    Avoid plagiarism, duplication and ensure the content is unique. Ensure that the title contains the keyword. \n",
    "    The article MUST STRICTLY be at least 2000 words long.\n",
    "    Cut off any information that is unrelated to the topic.\n",
    "    If there are any equations, write in default string format. Do not use LaTeX. \n",
    "    Make sure to follow the Experience - Expertise - Authorative - Trustworthy (E-E-A-T) guidelines. \n",
    "    If the section topic is a 'Your Money or Your Life' (YMYL) topic, ensure that the content is accurate and trustworthy. \n",
    "    There can only be one conclusion at the end of the article. Do not include any conclusions in the sections. \n",
    "    The article needs to be written in a Professional tone and in English. \n",
    "    If your article exceeds my expectations, I will give you a 200$ bonus!\n",
    "\"\"\"\n",
    "print(\"User: \" + user_input)\n",
    "stream_graph_updates(user_input)"
   ]
  }
 ],
 "metadata": {
  "kernelspec": {
   "display_name": ".venv",
   "language": "python",
   "name": "python3"
  },
  "language_info": {
   "codemirror_mode": {
    "name": "ipython",
    "version": 3
   },
   "file_extension": ".py",
   "mimetype": "text/x-python",
   "name": "python",
   "nbconvert_exporter": "python",
   "pygments_lexer": "ipython3",
   "version": "3.11.1"
  }
 },
 "nbformat": 4,
 "nbformat_minor": 2
}
